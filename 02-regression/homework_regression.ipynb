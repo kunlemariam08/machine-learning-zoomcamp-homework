{
 "cells": [
  {
   "cell_type": "code",
   "execution_count": 2,
   "id": "ef78f711-13b0-486b-a09e-5837fd2eeee2",
   "metadata": {},
   "outputs": [],
   "source": [
    "import pandas as pd\n",
    "import numpy as np\n",
    "\n",
    "import seaborn as sns\n",
    "from matplotlib import pyplot as plt\n",
    "%matplotlib inline"
   ]
  },
  {
   "cell_type": "code",
   "execution_count": 25,
   "id": "97b78f52-75b7-4321-a6eb-77a2fec1f0a3",
   "metadata": {
    "scrolled": true
   },
   "outputs": [
    {
     "data": {
      "text/html": [
       "<div>\n",
       "<style scoped>\n",
       "    .dataframe tbody tr th:only-of-type {\n",
       "        vertical-align: middle;\n",
       "    }\n",
       "\n",
       "    .dataframe tbody tr th {\n",
       "        vertical-align: top;\n",
       "    }\n",
       "\n",
       "    .dataframe thead th {\n",
       "        text-align: right;\n",
       "    }\n",
       "</style>\n",
       "<table border=\"1\" class=\"dataframe\">\n",
       "  <thead>\n",
       "    <tr style=\"text-align: right;\">\n",
       "      <th></th>\n",
       "      <th>engine_displacement</th>\n",
       "      <th>num_cylinders</th>\n",
       "      <th>horsepower</th>\n",
       "      <th>vehicle_weight</th>\n",
       "      <th>acceleration</th>\n",
       "      <th>model_year</th>\n",
       "      <th>origin</th>\n",
       "      <th>fuel_type</th>\n",
       "      <th>drivetrain</th>\n",
       "      <th>num_doors</th>\n",
       "      <th>fuel_efficiency_mpg</th>\n",
       "    </tr>\n",
       "  </thead>\n",
       "  <tbody>\n",
       "    <tr>\n",
       "      <th>0</th>\n",
       "      <td>170</td>\n",
       "      <td>3.0</td>\n",
       "      <td>159.0</td>\n",
       "      <td>3413.433759</td>\n",
       "      <td>17.7</td>\n",
       "      <td>2003</td>\n",
       "      <td>Europe</td>\n",
       "      <td>Gasoline</td>\n",
       "      <td>All-wheel drive</td>\n",
       "      <td>0.0</td>\n",
       "      <td>13.231729</td>\n",
       "    </tr>\n",
       "    <tr>\n",
       "      <th>1</th>\n",
       "      <td>130</td>\n",
       "      <td>5.0</td>\n",
       "      <td>97.0</td>\n",
       "      <td>3149.664934</td>\n",
       "      <td>17.8</td>\n",
       "      <td>2007</td>\n",
       "      <td>USA</td>\n",
       "      <td>Gasoline</td>\n",
       "      <td>Front-wheel drive</td>\n",
       "      <td>0.0</td>\n",
       "      <td>13.688217</td>\n",
       "    </tr>\n",
       "    <tr>\n",
       "      <th>2</th>\n",
       "      <td>170</td>\n",
       "      <td>NaN</td>\n",
       "      <td>78.0</td>\n",
       "      <td>3079.038997</td>\n",
       "      <td>15.1</td>\n",
       "      <td>2018</td>\n",
       "      <td>Europe</td>\n",
       "      <td>Gasoline</td>\n",
       "      <td>Front-wheel drive</td>\n",
       "      <td>0.0</td>\n",
       "      <td>14.246341</td>\n",
       "    </tr>\n",
       "    <tr>\n",
       "      <th>3</th>\n",
       "      <td>220</td>\n",
       "      <td>4.0</td>\n",
       "      <td>NaN</td>\n",
       "      <td>2542.392402</td>\n",
       "      <td>20.2</td>\n",
       "      <td>2009</td>\n",
       "      <td>USA</td>\n",
       "      <td>Diesel</td>\n",
       "      <td>All-wheel drive</td>\n",
       "      <td>2.0</td>\n",
       "      <td>16.912736</td>\n",
       "    </tr>\n",
       "    <tr>\n",
       "      <th>4</th>\n",
       "      <td>210</td>\n",
       "      <td>1.0</td>\n",
       "      <td>140.0</td>\n",
       "      <td>3460.870990</td>\n",
       "      <td>14.4</td>\n",
       "      <td>2009</td>\n",
       "      <td>Europe</td>\n",
       "      <td>Gasoline</td>\n",
       "      <td>All-wheel drive</td>\n",
       "      <td>2.0</td>\n",
       "      <td>12.488369</td>\n",
       "    </tr>\n",
       "  </tbody>\n",
       "</table>\n",
       "</div>"
      ],
      "text/plain": [
       "   engine_displacement  num_cylinders  horsepower  vehicle_weight  \\\n",
       "0                  170            3.0       159.0     3413.433759   \n",
       "1                  130            5.0        97.0     3149.664934   \n",
       "2                  170            NaN        78.0     3079.038997   \n",
       "3                  220            4.0         NaN     2542.392402   \n",
       "4                  210            1.0       140.0     3460.870990   \n",
       "\n",
       "   acceleration  model_year  origin fuel_type         drivetrain  num_doors  \\\n",
       "0          17.7        2003  Europe  Gasoline    All-wheel drive        0.0   \n",
       "1          17.8        2007     USA  Gasoline  Front-wheel drive        0.0   \n",
       "2          15.1        2018  Europe  Gasoline  Front-wheel drive        0.0   \n",
       "3          20.2        2009     USA    Diesel    All-wheel drive        2.0   \n",
       "4          14.4        2009  Europe  Gasoline    All-wheel drive        2.0   \n",
       "\n",
       "   fuel_efficiency_mpg  \n",
       "0            13.231729  \n",
       "1            13.688217  \n",
       "2            14.246341  \n",
       "3            16.912736  \n",
       "4            12.488369  "
      ]
     },
     "execution_count": 25,
     "metadata": {},
     "output_type": "execute_result"
    }
   ],
   "source": [
    "df = pd.read_csv(r\"C:\\Users\\pc\\Downloads\\car_fuel_efficiency.csv\")\n",
    "\n",
    "df.head()"
   ]
  },
  {
   "cell_type": "code",
   "execution_count": 33,
   "id": "31178108-a6fc-47a1-9dff-eb766f1e42fa",
   "metadata": {},
   "outputs": [
    {
     "data": {
      "text/plain": [
       "9704"
      ]
     },
     "execution_count": 33,
     "metadata": {},
     "output_type": "execute_result"
    }
   ],
   "source": [
    "# Size of DataFrame\n",
    "len(df)"
   ]
  },
  {
   "cell_type": "code",
   "execution_count": 26,
   "id": "452fd1c4-876a-4975-96c5-8b1a68d732e0",
   "metadata": {},
   "outputs": [
    {
     "data": {
      "text/plain": [
       "<bound method DataFrame.info of       engine_displacement  num_cylinders  horsepower  vehicle_weight  \\\n",
       "0                     170            3.0       159.0     3413.433759   \n",
       "1                     130            5.0        97.0     3149.664934   \n",
       "2                     170            NaN        78.0     3079.038997   \n",
       "3                     220            4.0         NaN     2542.392402   \n",
       "4                     210            1.0       140.0     3460.870990   \n",
       "...                   ...            ...         ...             ...   \n",
       "9699                  140            5.0       164.0     2981.107371   \n",
       "9700                  180            NaN       154.0     2439.525729   \n",
       "9701                  220            2.0       138.0     2583.471318   \n",
       "9702                  230            4.0       177.0     2905.527390   \n",
       "9703                  270            3.0       140.0     2908.043477   \n",
       "\n",
       "      acceleration  model_year  origin fuel_type         drivetrain  \\\n",
       "0             17.7        2003  Europe  Gasoline    All-wheel drive   \n",
       "1             17.8        2007     USA  Gasoline  Front-wheel drive   \n",
       "2             15.1        2018  Europe  Gasoline  Front-wheel drive   \n",
       "3             20.2        2009     USA    Diesel    All-wheel drive   \n",
       "4             14.4        2009  Europe  Gasoline    All-wheel drive   \n",
       "...            ...         ...     ...       ...                ...   \n",
       "9699          17.3        2013  Europe    Diesel  Front-wheel drive   \n",
       "9700          15.0        2004     USA  Gasoline    All-wheel drive   \n",
       "9701          15.1        2008     USA    Diesel    All-wheel drive   \n",
       "9702          19.4        2011     USA    Diesel  Front-wheel drive   \n",
       "9703          14.7        2005    Asia    Diesel    All-wheel drive   \n",
       "\n",
       "      num_doors  fuel_efficiency_mpg  \n",
       "0           0.0            13.231729  \n",
       "1           0.0            13.688217  \n",
       "2           0.0            14.246341  \n",
       "3           2.0            16.912736  \n",
       "4           2.0            12.488369  \n",
       "...         ...                  ...  \n",
       "9699        NaN            15.101802  \n",
       "9700        0.0            17.962326  \n",
       "9701       -1.0            17.186587  \n",
       "9702        1.0            15.331551  \n",
       "9703       -1.0            14.884467  \n",
       "\n",
       "[9704 rows x 11 columns]>"
      ]
     },
     "execution_count": 26,
     "metadata": {},
     "output_type": "execute_result"
    }
   ],
   "source": [
    "df.info"
   ]
  },
  {
   "cell_type": "code",
   "execution_count": 27,
   "id": "79954dba-fb97-4788-b0b1-1b2887b7d198",
   "metadata": {},
   "outputs": [
    {
     "name": "stdout",
     "output_type": "stream",
     "text": [
      "   engine_displacement  horsepower  vehicle_weight  model_year  \\\n",
      "0                  170       159.0     3413.433759        2003   \n",
      "1                  130        97.0     3149.664934        2007   \n",
      "2                  170        78.0     3079.038997        2018   \n",
      "3                  220         NaN     2542.392402        2009   \n",
      "4                  210       140.0     3460.870990        2009   \n",
      "\n",
      "   fuel_efficiency_mpg  \n",
      "0            13.231729  \n",
      "1            13.688217  \n",
      "2            14.246341  \n",
      "3            16.912736  \n",
      "4            12.488369  \n"
     ]
    }
   ],
   "source": [
    "# Select only the desired columns\n",
    "selected_columns = [\n",
    "    'engine_displacement',\n",
    "    'horsepower',\n",
    "    'vehicle_weight',\n",
    "    'model_year',\n",
    "    'fuel_efficiency_mpg'\n",
    "]\n",
    "\n",
    "filtered_df = df[selected_columns]\n",
    "\n",
    "# Preview the result\n",
    "print(filtered_df.head())\n"
   ]
  },
  {
   "cell_type": "code",
   "execution_count": null,
   "id": "f690c9aa-f881-4625-8f0d-5493f8d1fe4c",
   "metadata": {},
   "outputs": [],
   "source": []
  },
  {
   "cell_type": "markdown",
   "id": "70ac3925-444c-48e7-953c-71130d12fddc",
   "metadata": {},
   "source": [
    "## EDA"
   ]
  },
  {
   "cell_type": "code",
   "execution_count": 28,
   "id": "599911d8-d28c-4192-819c-a0709dddd009",
   "metadata": {},
   "outputs": [],
   "source": [
    "# Look at the fuel_efficiency_mpg variable. Does it have a long tail?\n",
    "# Visualizing the fuel_efficiency_mpg column by looking at its distribution\n",
    "import matplotlib.pyplot as plt\n",
    "import seaborn as sns\n",
    "\n",
    "# assure that plots are displayed in jupyter notebook's cells\n",
    "%matplotlib inline"
   ]
  },
  {
   "cell_type": "code",
   "execution_count": 29,
   "id": "43251443-e740-4ea4-8539-9b10aaecd0c3",
   "metadata": {},
   "outputs": [
    {
     "data": {
      "image/png": "[encoded data removed]",
      "text/plain": [
       "<Figure size 640x480 with 1 Axes>"
      ]
     },
     "metadata": {},
     "output_type": "display_data"
    }
   ],
   "source": [
    "sns.histplot(df.fuel_efficiency_mpg, bins=50) #show the histogram of a series\n",
    "plt.title('Distribution of Fuel Efficiency (MPG)')\n",
    "plt.xlabel('MPG')\n",
    "plt.ylabel('Frequency')\n",
    "plt.show()"
   ]
  },
  {
   "cell_type": "markdown",
   "id": "503286ed-0a4c-4636-b4fb-55d6ea7ddbe0",
   "metadata": {},
   "source": [
    "From the visualization above,we can see that the fuel_efficiency_mpg column does not have long tail.\n",
    "But instead a bell shape suggesting a normal distribution which is good for model. mean=median=mode"
   ]
  },
  {
   "cell_type": "code",
   "execution_count": 30,
   "id": "bc2c226c-201a-44da-96e2-6afbb173af9e",
   "metadata": {},
   "outputs": [
    {
     "name": "stdout",
     "output_type": "stream",
     "text": [
      "engine_displacement      0\n",
      "horsepower             708\n",
      "vehicle_weight           0\n",
      "model_year               0\n",
      "fuel_efficiency_mpg      0\n",
      "dtype: int64\n"
     ]
    }
   ],
   "source": [
    "# Q1. There's one column with missing values. What is it?\n",
    "\n",
    "selected_columns = [\n",
    "    'engine_displacement',\n",
    "    'horsepower',\n",
    "    'vehicle_weight',\n",
    "    'model_year',\n",
    "    'fuel_efficiency_mpg'\n",
    "]\n",
    "\n",
    "# Count missing values in each selected column\n",
    "missing_counts = df[selected_columns].isnull().sum()\n",
    "print(missing_counts)"
   ]
  },
  {
   "cell_type": "code",
   "execution_count": 42,
   "id": "9d504f55-ca22-4a62-b262-683c5778d4f4",
   "metadata": {},
   "outputs": [
    {
     "name": "stdout",
     "output_type": "stream",
     "text": [
      "Mean horsepower: 149.6572921298355\n"
     ]
    }
   ],
   "source": [
    "# Mean\n",
    "mean_hp = df['horsepower'].mean()\n",
    "print(\"Mean horsepower:\", mean_hp)"
   ]
  },
  {
   "cell_type": "code",
   "execution_count": 41,
   "id": "c2ae8ec5-767e-4861-9d56-15cb09912aa5",
   "metadata": {},
   "outputs": [
    {
     "name": "stdout",
     "output_type": "stream",
     "text": [
      "Median horsepower: 149.65729212983547\n"
     ]
    }
   ],
   "source": [
    "# Median\n",
    "median_value = df['horsepower'].median()\n",
    "print(\"Median horsepower:\", median_value)"
   ]
  },
  {
   "cell_type": "code",
   "execution_count": 39,
   "id": "4c03158b-117c-45a7-a046-ceb6024d4449",
   "metadata": {},
   "outputs": [
    {
     "name": "stdout",
     "output_type": "stream",
     "text": [
      "Median horsepower: 0    149.657292\n",
      "Name: horsepower, dtype: float64\n"
     ]
    }
   ],
   "source": [
    "# Mode\n",
    "mode_value = df['horsepower'].mode()\n",
    "print(\"Median horsepower:\", mode_value)"
   ]
  },
  {
   "cell_type": "code",
   "execution_count": 43,
   "id": "f18999fd-0ba0-48c8-af18-fbe1989c274a",
   "metadata": {},
   "outputs": [
    {
     "name": "stdout",
     "output_type": "stream",
     "text": [
      "Median horsepower: 149.65729212983547\n"
     ]
    }
   ],
   "source": [
    "# Question 2. Median for horse power \n",
    "\n",
    "median_hp = df['horsepower'].median()\n",
    "print(\"Median horsepower:\", median_hp)"
   ]
  },
  {
   "cell_type": "code",
   "execution_count": 35,
   "id": "1926b3a8-c9ac-4087-ac47-211e81e0b528",
   "metadata": {},
   "outputs": [
    {
     "data": {
      "text/plain": [
       "np.int64(0)"
      ]
     },
     "execution_count": 35,
     "metadata": {},
     "output_type": "execute_result"
    }
   ],
   "source": [
    "df['horsepower'].isnull().sum()"
   ]
  },
  {
   "cell_type": "code",
   "execution_count": 36,
   "id": "09f3f8b7-52bd-4516-b68d-9e881fa69796",
   "metadata": {},
   "outputs": [
    {
     "name": "stdout",
     "output_type": "stream",
     "text": [
      "Mean horsepower used for filling: 149.6572921298355\n"
     ]
    }
   ],
   "source": [
    "print(\"Mean horsepower used for filling:\", df['horsepower'].mean())"
   ]
  },
  {
   "cell_type": "code",
   "execution_count": 63,
   "id": "f29be173-460d-4422-be52-03829c509533",
   "metadata": {},
   "outputs": [
    {
     "name": "stdout",
     "output_type": "stream",
     "text": [
      "filling horsepower with 0: 0       159.000000\n",
      "1        97.000000\n",
      "2        78.000000\n",
      "3       149.657292\n",
      "4       140.000000\n",
      "           ...    \n",
      "9699    164.000000\n",
      "9700    154.000000\n",
      "9701    138.000000\n",
      "9702    177.000000\n",
      "9703    140.000000\n",
      "Name: horsepower, Length: 9704, dtype: float64\n"
     ]
    }
   ],
   "source": [
    "# df['horsepower'] = df['horsepower'].fillna(0)\n",
    "print(\"filling horsepower with 0:\", df['horsepower'].fillna(0))"
   ]
  },
  {
   "cell_type": "code",
   "execution_count": 44,
   "id": "33eb86d4-c2ee-4195-90af-c5769d91e18f",
   "metadata": {},
   "outputs": [],
   "source": [
    "# Question 3. Filling NAs\n",
    "\n"
   ]
  },
  {
   "cell_type": "markdown",
   "id": "5b30fc90-02ef-4e1d-9b2c-fc4a5460bd0c",
   "metadata": {},
   "source": [
    "## Prepare and split the dataset"
   ]
  },
  {
   "cell_type": "markdown",
   "id": "14d97753-1802-41ed-a2aa-e9216fcb59d4",
   "metadata": {},
   "source": [
    "Shuffle the dataset (the filtered one you created above), use seed 42.\n",
    "Split your data in train/val/test sets, with 60%/20%/20% distribution."
   ]
  },
  {
   "cell_type": "markdown",
   "id": "9d7ef599-d4e7-4677-a79b-4c849d016a16",
   "metadata": {},
   "source": [
    "## Setting up the validation framework\n"
   ]
  },
  {
   "cell_type": "code",
   "execution_count": 45,
   "id": "c7cb564a-bea2-47cd-826d-d6527a3cb868",
   "metadata": {},
   "outputs": [],
   "source": [
    "n = len(df)\n",
    "\n",
    "n_val = int(n * 0.2)\n",
    "n_test = int(n * 0.2)\n",
    "n_train = n - n_val - n_test"
   ]
  },
  {
   "cell_type": "code",
   "execution_count": 46,
   "id": "73198f07-b7e2-494c-9ebf-983582df3aa5",
   "metadata": {},
   "outputs": [
    {
     "data": {
      "text/plain": [
       "9704"
      ]
     },
     "execution_count": 46,
     "metadata": {},
     "output_type": "execute_result"
    }
   ],
   "source": [
    "n"
   ]
  },
  {
   "cell_type": "code",
   "execution_count": 49,
   "id": "e2c4102c-0d45-42ad-9c0f-b211fdc54454",
   "metadata": {},
   "outputs": [
    {
     "data": {
      "text/plain": [
       "(9704, 1940, 1940, 5824)"
      ]
     },
     "execution_count": 49,
     "metadata": {},
     "output_type": "execute_result"
    }
   ],
   "source": [
    "n, n_test, n_val, n_train"
   ]
  },
  {
   "cell_type": "code",
   "execution_count": 51,
   "id": "cc380dcf-675a-4b7d-8629-e4bc9c2d25c5",
   "metadata": {},
   "outputs": [
    {
     "data": {
      "text/html": [
       "<div>\n",
       "<style scoped>\n",
       "    .dataframe tbody tr th:only-of-type {\n",
       "        vertical-align: middle;\n",
       "    }\n",
       "\n",
       "    .dataframe tbody tr th {\n",
       "        vertical-align: top;\n",
       "    }\n",
       "\n",
       "    .dataframe thead th {\n",
       "        text-align: right;\n",
       "    }\n",
       "</style>\n",
       "<table border=\"1\" class=\"dataframe\">\n",
       "  <thead>\n",
       "    <tr style=\"text-align: right;\">\n",
       "      <th></th>\n",
       "      <th>engine_displacement</th>\n",
       "      <th>horsepower</th>\n",
       "      <th>vehicle_weight</th>\n",
       "      <th>model_year</th>\n",
       "      <th>fuel_efficiency_mpg</th>\n",
       "    </tr>\n",
       "  </thead>\n",
       "  <tbody>\n",
       "    <tr>\n",
       "      <th>10</th>\n",
       "      <td>230</td>\n",
       "      <td>100.000000</td>\n",
       "      <td>3111.810181</td>\n",
       "      <td>2014</td>\n",
       "      <td>13.386605</td>\n",
       "    </tr>\n",
       "    <tr>\n",
       "      <th>0</th>\n",
       "      <td>170</td>\n",
       "      <td>159.000000</td>\n",
       "      <td>3413.433759</td>\n",
       "      <td>2003</td>\n",
       "      <td>13.231729</td>\n",
       "    </tr>\n",
       "    <tr>\n",
       "      <th>3</th>\n",
       "      <td>220</td>\n",
       "      <td>149.657292</td>\n",
       "      <td>2542.392402</td>\n",
       "      <td>2009</td>\n",
       "      <td>16.912736</td>\n",
       "    </tr>\n",
       "    <tr>\n",
       "      <th>5</th>\n",
       "      <td>190</td>\n",
       "      <td>149.657292</td>\n",
       "      <td>2484.883986</td>\n",
       "      <td>2008</td>\n",
       "      <td>17.271818</td>\n",
       "    </tr>\n",
       "  </tbody>\n",
       "</table>\n",
       "</div>"
      ],
      "text/plain": [
       "    engine_displacement  horsepower  vehicle_weight  model_year  \\\n",
       "10                  230  100.000000     3111.810181        2014   \n",
       "0                   170  159.000000     3413.433759        2003   \n",
       "3                   220  149.657292     2542.392402        2009   \n",
       "5                   190  149.657292     2484.883986        2008   \n",
       "\n",
       "    fuel_efficiency_mpg  \n",
       "10            13.386605  \n",
       "0             13.231729  \n",
       "3             16.912736  \n",
       "5             17.271818  "
      ]
     },
     "execution_count": 51,
     "metadata": {},
     "output_type": "execute_result"
    }
   ],
   "source": [
    "df.loc[[10, 0, 3, 5], selected_columns]"
   ]
  },
  {
   "cell_type": "code",
   "execution_count": 52,
   "id": "69a98514-f755-4ae0-aee7-d2129d3b8ffc",
   "metadata": {},
   "outputs": [],
   "source": [
    "df_train = df.iloc[:n_train]\n",
    "df_val = df.iloc[n_train:n_train+n_val]\n",
    "df_test = df.iloc[n_train+n_val:]"
   ]
  },
  {
   "cell_type": "code",
   "execution_count": 53,
   "id": "a4430687-b3a7-4ea0-a5ed-2b8b7bf12785",
   "metadata": {},
   "outputs": [],
   "source": [
    "idx = np.arange(n)\n"
   ]
  },
  {
   "cell_type": "code",
   "execution_count": 54,
   "id": "9abfe4dc-67b1-4031-90dd-4342856c1a4e",
   "metadata": {},
   "outputs": [],
   "source": [
    "np.random.seed(42)\n",
    "np.random.shuffle(idx)"
   ]
  },
  {
   "cell_type": "code",
   "execution_count": 56,
   "id": "d62c9a8d-c41b-4899-997a-970f2f3495a6",
   "metadata": {},
   "outputs": [],
   "source": [
    "df_train = df.iloc[idx[:n_train]]\n",
    "df_val = df.iloc[idx[n_train:n_train+n_val]]\n",
    "df_test = df.iloc[idx[n_train+n_val:]]"
   ]
  },
  {
   "cell_type": "code",
   "execution_count": 57,
   "id": "56c88479-23d0-42eb-a822-9c8412ee59cb",
   "metadata": {},
   "outputs": [
    {
     "data": {
      "text/html": [
       "<div>\n",
       "<style scoped>\n",
       "    .dataframe tbody tr th:only-of-type {\n",
       "        vertical-align: middle;\n",
       "    }\n",
       "\n",
       "    .dataframe tbody tr th {\n",
       "        vertical-align: top;\n",
       "    }\n",
       "\n",
       "    .dataframe thead th {\n",
       "        text-align: right;\n",
       "    }\n",
       "</style>\n",
       "<table border=\"1\" class=\"dataframe\">\n",
       "  <thead>\n",
       "    <tr style=\"text-align: right;\">\n",
       "      <th></th>\n",
       "      <th>engine_displacement</th>\n",
       "      <th>num_cylinders</th>\n",
       "      <th>horsepower</th>\n",
       "      <th>vehicle_weight</th>\n",
       "      <th>acceleration</th>\n",
       "      <th>model_year</th>\n",
       "      <th>origin</th>\n",
       "      <th>fuel_type</th>\n",
       "      <th>drivetrain</th>\n",
       "      <th>num_doors</th>\n",
       "      <th>fuel_efficiency_mpg</th>\n",
       "    </tr>\n",
       "  </thead>\n",
       "  <tbody>\n",
       "    <tr>\n",
       "      <th>483</th>\n",
       "      <td>220</td>\n",
       "      <td>3.0</td>\n",
       "      <td>144.0</td>\n",
       "      <td>2535.887591</td>\n",
       "      <td>18.7</td>\n",
       "      <td>2009</td>\n",
       "      <td>USA</td>\n",
       "      <td>Gasoline</td>\n",
       "      <td>All-wheel drive</td>\n",
       "      <td>2.0</td>\n",
       "      <td>16.642943</td>\n",
       "    </tr>\n",
       "    <tr>\n",
       "      <th>7506</th>\n",
       "      <td>160</td>\n",
       "      <td>2.0</td>\n",
       "      <td>141.0</td>\n",
       "      <td>2741.170484</td>\n",
       "      <td>14.3</td>\n",
       "      <td>2019</td>\n",
       "      <td>Asia</td>\n",
       "      <td>Diesel</td>\n",
       "      <td>Front-wheel drive</td>\n",
       "      <td>2.0</td>\n",
       "      <td>16.298377</td>\n",
       "    </tr>\n",
       "    <tr>\n",
       "      <th>8795</th>\n",
       "      <td>230</td>\n",
       "      <td>3.0</td>\n",
       "      <td>155.0</td>\n",
       "      <td>2471.880237</td>\n",
       "      <td>NaN</td>\n",
       "      <td>2017</td>\n",
       "      <td>Asia</td>\n",
       "      <td>Diesel</td>\n",
       "      <td>Front-wheel drive</td>\n",
       "      <td>2.0</td>\n",
       "      <td>18.591822</td>\n",
       "    </tr>\n",
       "    <tr>\n",
       "      <th>1688</th>\n",
       "      <td>150</td>\n",
       "      <td>3.0</td>\n",
       "      <td>206.0</td>\n",
       "      <td>3748.164469</td>\n",
       "      <td>15.5</td>\n",
       "      <td>2015</td>\n",
       "      <td>USA</td>\n",
       "      <td>Gasoline</td>\n",
       "      <td>All-wheel drive</td>\n",
       "      <td>1.0</td>\n",
       "      <td>11.818843</td>\n",
       "    </tr>\n",
       "    <tr>\n",
       "      <th>6217</th>\n",
       "      <td>300</td>\n",
       "      <td>4.0</td>\n",
       "      <td>111.0</td>\n",
       "      <td>2135.716359</td>\n",
       "      <td>16.9</td>\n",
       "      <td>2006</td>\n",
       "      <td>USA</td>\n",
       "      <td>Gasoline</td>\n",
       "      <td>All-wheel drive</td>\n",
       "      <td>NaN</td>\n",
       "      <td>19.402209</td>\n",
       "    </tr>\n",
       "  </tbody>\n",
       "</table>\n",
       "</div>"
      ],
      "text/plain": [
       "      engine_displacement  num_cylinders  horsepower  vehicle_weight  \\\n",
       "483                   220            3.0       144.0     2535.887591   \n",
       "7506                  160            2.0       141.0     2741.170484   \n",
       "8795                  230            3.0       155.0     2471.880237   \n",
       "1688                  150            3.0       206.0     3748.164469   \n",
       "6217                  300            4.0       111.0     2135.716359   \n",
       "\n",
       "      acceleration  model_year origin fuel_type         drivetrain  num_doors  \\\n",
       "483           18.7        2009    USA  Gasoline    All-wheel drive        2.0   \n",
       "7506          14.3        2019   Asia    Diesel  Front-wheel drive        2.0   \n",
       "8795           NaN        2017   Asia    Diesel  Front-wheel drive        2.0   \n",
       "1688          15.5        2015    USA  Gasoline    All-wheel drive        1.0   \n",
       "6217          16.9        2006    USA  Gasoline    All-wheel drive        NaN   \n",
       "\n",
       "      fuel_efficiency_mpg  \n",
       "483             16.642943  \n",
       "7506            16.298377  \n",
       "8795            18.591822  \n",
       "1688            11.818843  \n",
       "6217            19.402209  "
      ]
     },
     "execution_count": 57,
     "metadata": {},
     "output_type": "execute_result"
    }
   ],
   "source": [
    "df_train.head()"
   ]
  },
  {
   "cell_type": "code",
   "execution_count": 58,
   "id": "564c4362-ec7a-4f41-9b58-cfab8a38654d",
   "metadata": {},
   "outputs": [
    {
     "data": {
      "text/plain": [
       "(5824, 1940, 1940)"
      ]
     },
     "execution_count": 58,
     "metadata": {},
     "output_type": "execute_result"
    }
   ],
   "source": [
    "len(df_train), len(df_val), len(df_test)\n"
   ]
  },
  {
   "cell_type": "code",
   "execution_count": 59,
   "id": "23ee352c-893e-4290-a55b-19da930307ce",
   "metadata": {},
   "outputs": [],
   "source": [
    "df_train = df_train.reset_index(drop=True)\n",
    "df_val = df_val.reset_index(drop=True)\n",
    "df_test = df_test.reset_index(drop=True)"
   ]
  },
  {
   "cell_type": "code",
   "execution_count": 66,
   "id": "3c53367b-9737-4c6b-bfcc-9d7cc31f1280",
   "metadata": {},
   "outputs": [
    {
     "data": {
      "text/plain": [
       "0       4.976734\n",
       "1       4.955827\n",
       "2       5.049856\n",
       "3       5.332719\n",
       "4       4.718499\n",
       "          ...   \n",
       "5819    4.941642\n",
       "5820    4.890349\n",
       "5821    5.030438\n",
       "5822    5.043425\n",
       "5823    5.030438\n",
       "Name: horsepower, Length: 5824, dtype: float64"
      ]
     },
     "execution_count": 66,
     "metadata": {},
     "output_type": "execute_result"
    }
   ],
   "source": [
    "np.log1p(df_train.horsepower)"
   ]
  },
  {
   "cell_type": "code",
   "execution_count": null,
   "id": "77b1cb77-140d-41ff-98ad-3b54ecc4ce9d",
   "metadata": {},
   "outputs": [],
   "source": []
  },
  {
   "cell_type": "code",
   "execution_count": 67,
   "id": "47472be5-008d-4ea6-89d6-8e3ec815fbd2",
   "metadata": {},
   "outputs": [
    {
     "data": {
      "text/plain": [
       "array([4.97673374, 4.95582706, 5.04985601, ..., 5.03043792, 5.04342512,\n",
       "       5.03043792])"
      ]
     },
     "execution_count": 67,
     "metadata": {},
     "output_type": "execute_result"
    }
   ],
   "source": [
    "np.log1p(df_train.horsepower.values)"
   ]
  },
  {
   "cell_type": "code",
   "execution_count": 68,
   "id": "2d4b4e88-51d4-4a02-9af5-24fdc74b2013",
   "metadata": {},
   "outputs": [],
   "source": [
    "# apply log1p transformation to the horsepower column to help the model perform well.\n",
    "y_train = np.log1p(df_train.horsepower.values)\n",
    "y_val = np.log1p(df_val.horsepower.values)\n",
    "y_test = np.log1p(df_test.horsepower.values)"
   ]
  },
  {
   "cell_type": "code",
   "execution_count": 102,
   "id": "56069ab6-8358-4061-a538-2b3eebf199cc",
   "metadata": {},
   "outputs": [
    {
     "data": {
      "text/plain": [
       "array([4.72738782, 4.93447393, 5.20400669, ..., 5.31320598, 5.13579844,\n",
       "       4.77068462])"
      ]
     },
     "execution_count": 102,
     "metadata": {},
     "output_type": "execute_result"
    }
   ],
   "source": [
    "y_val"
   ]
  },
  {
   "cell_type": "code",
   "execution_count": 69,
   "id": "5525eb98-deb2-4cf3-87f8-d02f0ec92d2d",
   "metadata": {},
   "outputs": [],
   "source": [
    "# We should remove msrp values from dataframes (df_train, df_val, df_test) to make sure that we don’t accidentally use it for training purposes.\n",
    "\n",
    "del df_train['horsepower']\n",
    "del df_val['horsepower']\n",
    "del df_test['horsepower']"
   ]
  },
  {
   "cell_type": "code",
   "execution_count": 71,
   "id": "f30673cc-794b-4ffa-8e00-0bb25130fa6b",
   "metadata": {},
   "outputs": [
    {
     "data": {
      "text/plain": [
       "5824"
      ]
     },
     "execution_count": 71,
     "metadata": {},
     "output_type": "execute_result"
    }
   ],
   "source": [
    "len(y_train)"
   ]
  },
  {
   "cell_type": "code",
   "execution_count": 72,
   "id": "30e67fb2-0b1a-4f1b-9e4f-e23fc2f2cb67",
   "metadata": {},
   "outputs": [
    {
     "data": {
      "text/plain": [
       "engine_displacement                  240\n",
       "num_cylinders                        2.0\n",
       "vehicle_weight               2916.987921\n",
       "acceleration                        16.3\n",
       "model_year                          2001\n",
       "origin                              Asia\n",
       "fuel_type                       Gasoline\n",
       "drivetrain             Front-wheel drive\n",
       "num_doors                            1.0\n",
       "fuel_efficiency_mpg            15.066416\n",
       "Name: 10, dtype: object"
      ]
     },
     "execution_count": 72,
     "metadata": {},
     "output_type": "execute_result"
    }
   ],
   "source": [
    "df_train.iloc[10]\n"
   ]
  },
  {
   "cell_type": "code",
   "execution_count": 73,
   "id": "c03e91ed-e02a-4730-9e65-f494c4cbd35c",
   "metadata": {},
   "outputs": [
    {
     "data": {
      "text/plain": [
       "[240, 16.3, 15.066416]"
      ]
     },
     "execution_count": 73,
     "metadata": {},
     "output_type": "execute_result"
    }
   ],
   "source": [
    "# Using engine_displacement, acceleration, fuel_efficiency_mpg for feature matrix\n",
    "xi = [240, 16.3, 15.066416]\n",
    "xi"
   ]
  },
  {
   "cell_type": "code",
   "execution_count": 74,
   "id": "d5a15803-3bfd-49bb-baf5-0ec0ce087cc3",
   "metadata": {},
   "outputs": [],
   "source": [
    "xi = [240, 16.3, 15.066416]\n",
    "w0 = 5.17 # bias term\n",
    "w = [0.01, 0.04, 0.002]"
   ]
  },
  {
   "cell_type": "code",
   "execution_count": 76,
   "id": "f767c463-0e49-4d9f-8205-f6871ef7e6e0",
   "metadata": {},
   "outputs": [],
   "source": [
    "def linear_regression(xi):\n",
    "    n = len(xi)\n",
    "\n",
    "    pred = w0\n",
    "\n",
    "    for j in range(n):\n",
    "        pred = pred + w[j] * xi[j]\n",
    "\n",
    "    return pred"
   ]
  },
  {
   "cell_type": "code",
   "execution_count": 77,
   "id": "eed3d453-92b2-41ac-bace-dc0ca1c99ccb",
   "metadata": {},
   "outputs": [
    {
     "data": {
      "text/plain": [
       "8.252132832"
      ]
     },
     "execution_count": 77,
     "metadata": {},
     "output_type": "execute_result"
    }
   ],
   "source": [
    "linear_regression(xi)"
   ]
  },
  {
   "cell_type": "code",
   "execution_count": 81,
   "id": "cab890cd-7428-4db7-a020-8cf2374a81a4",
   "metadata": {},
   "outputs": [
    {
     "data": {
      "text/plain": [
       "np.float64(3835.7982163505876)"
      ]
     },
     "execution_count": 81,
     "metadata": {},
     "output_type": "execute_result"
    }
   ],
   "source": [
    "# prediction for the horsepower\n",
    "np.exp(8.252132832)"
   ]
  },
  {
   "cell_type": "code",
   "execution_count": 82,
   "id": "c8ecf536-657d-45fb-8f82-7f1d08c45a18",
   "metadata": {},
   "outputs": [
    {
     "data": {
      "text/plain": [
       "np.float64(3834.7982163505876)"
      ]
     },
     "execution_count": 82,
     "metadata": {},
     "output_type": "execute_result"
    }
   ],
   "source": [
    "np.expm1(8.252132832)"
   ]
  },
  {
   "cell_type": "code",
   "execution_count": 85,
   "id": "665f0f1a-0936-4406-bb28-0aad5eed490a",
   "metadata": {},
   "outputs": [
    {
     "data": {
      "text/plain": [
       "np.float64(8.252132832)"
      ]
     },
     "execution_count": 85,
     "metadata": {},
     "output_type": "execute_result"
    }
   ],
   "source": [
    "np.log1p(3834.7982163505876)"
   ]
  },
  {
   "cell_type": "code",
   "execution_count": 86,
   "id": "b7d1e38e-507d-4163-9ba1-fd32c2b1196a",
   "metadata": {},
   "outputs": [],
   "source": [
    "## Linear regression vector form\n",
    "def dot(xi, w):\n",
    "    n = len(xi)\n",
    "    \n",
    "    res = 0.0\n",
    "    \n",
    "    for j in range(n):\n",
    "        res = res + xi[j] * w[j]\n",
    "    \n",
    "    return res\n"
   ]
  },
  {
   "cell_type": "code",
   "execution_count": 87,
   "id": "8277be00-cc2a-4db8-9b28-881696ac5170",
   "metadata": {},
   "outputs": [],
   "source": [
    "def linear_regression(xi):\n",
    "    return w0 + dot(xi, w)"
   ]
  },
  {
   "cell_type": "code",
   "execution_count": 88,
   "id": "61e5cfff-0ea1-404f-9295-edd9e58505a0",
   "metadata": {},
   "outputs": [],
   "source": [
    "w_new = [w0] + w\n"
   ]
  },
  {
   "cell_type": "code",
   "execution_count": 89,
   "id": "cefccc06-708d-444d-9927-50526e86f5ba",
   "metadata": {},
   "outputs": [
    {
     "data": {
      "text/plain": [
       "[5.17, 0.01, 0.04, 0.002]"
      ]
     },
     "execution_count": 89,
     "metadata": {},
     "output_type": "execute_result"
    }
   ],
   "source": [
    "w_new"
   ]
  },
  {
   "cell_type": "code",
   "execution_count": 90,
   "id": "812352c0-fe24-485c-ad6c-8b4d06cfd9ce",
   "metadata": {},
   "outputs": [],
   "source": [
    "def linear_regression(xi):\n",
    "    xi = [1] + xi\n",
    "    return dot(xi, w_new)"
   ]
  },
  {
   "cell_type": "code",
   "execution_count": 91,
   "id": "d77a7a0d-e8f5-4030-96c8-23426b243d0d",
   "metadata": {},
   "outputs": [
    {
     "data": {
      "text/plain": [
       "8.252132832"
      ]
     },
     "execution_count": 91,
     "metadata": {},
     "output_type": "execute_result"
    }
   ],
   "source": [
    "linear_regression(xi)\n"
   ]
  },
  {
   "cell_type": "code",
   "execution_count": 94,
   "id": "7f6939d5-ef42-4ea4-8604-436ed836751c",
   "metadata": {},
   "outputs": [
    {
     "data": {
      "text/plain": [
       "[5.17, 0.01, 0.04, 0.002]"
      ]
     },
     "execution_count": 94,
     "metadata": {},
     "output_type": "execute_result"
    }
   ],
   "source": [
    "w0 = 5.17\n",
    "w = [0.01, 0.04, 0.002]\n",
    "w_new = [w0] + w\n",
    "w_new"
   ]
  },
  {
   "cell_type": "code",
   "execution_count": 95,
   "id": "b9315ad3-e968-4da4-8055-69109a67a0f0",
   "metadata": {},
   "outputs": [
    {
     "data": {
      "text/plain": [
       "array([[  1.      , 148.      ,  12.2     ,  12.066341],\n",
       "       [  1.      , 132.      ,  14.3     ,  13.056432],\n",
       "       [  1.      , 240.      ,  16.3     ,  15.066416]])"
      ]
     },
     "execution_count": 95,
     "metadata": {},
     "output_type": "execute_result"
    }
   ],
   "source": [
    "x1  = [1, 148, 12.2, 12.066341]\n",
    "x2  = [1, 132, 14.3, 13.056432]\n",
    "x10 = [1, 240, 16.3, 15.066416]\n",
    "\n",
    "X = [x1, x2, x10]\n",
    "X = np.array(X)\n",
    "X"
   ]
  },
  {
   "cell_type": "code",
   "execution_count": 96,
   "id": "c218a833-8b6d-43b4-896c-573ee9084b1b",
   "metadata": {},
   "outputs": [
    {
     "data": {
      "text/plain": [
       "array([7.16213268, 7.08811286, 8.25213283])"
      ]
     },
     "execution_count": 96,
     "metadata": {},
     "output_type": "execute_result"
    }
   ],
   "source": [
    "# multiplication between the vector and the matrix to get a new prediction \n",
    "X.dot(w_new)"
   ]
  },
  {
   "cell_type": "code",
   "execution_count": 97,
   "id": "8a21b9c0-e1d0-481c-b99c-0e2ace209b61",
   "metadata": {},
   "outputs": [],
   "source": [
    "# implementing linear regression\n",
    "def linear_regression(X):\n",
    "    return X.dot(w_new)"
   ]
  },
  {
   "cell_type": "code",
   "execution_count": 98,
   "id": "8b94e81d-25a4-4ffc-bedd-1236bab33345",
   "metadata": {},
   "outputs": [
    {
     "data": {
      "text/plain": [
       "array([7.16213268, 7.08811286, 8.25213283])"
      ]
     },
     "execution_count": 98,
     "metadata": {},
     "output_type": "execute_result"
    }
   ],
   "source": [
    "linear_regression(X)"
   ]
  },
  {
   "cell_type": "code",
   "execution_count": 104,
   "id": "3755b57b-086d-4e92-9f6a-3f273e526949",
   "metadata": {},
   "outputs": [
    {
     "data": {
      "text/plain": [
       "array([[148.      ,  12.2     ,  12.066341],\n",
       "       [148.      ,  12.2     ,  12.066341],\n",
       "       [148.      ,  12.2     ,  12.493883],\n",
       "       [120.      ,  13.2     ,  13.066341],\n",
       "       [148.      ,  12.7     ,  15.084362],\n",
       "       [324.      ,  13.9     ,  13.066341],\n",
       "       [111.      ,  12.2     ,  12.045341],\n",
       "       [102.      ,  18.2     ,  16.066341],\n",
       "       [321.      ,  12.2     ,  11.066341]])"
      ]
     },
     "execution_count": 104,
     "metadata": {},
     "output_type": "execute_result"
    }
   ],
   "source": [
    "X = [\n",
    "    [148, 12.2, 12.066341],\n",
    "    [148, 12.2, 12.066341],\n",
    "    [148, 12.2, 12.493883],\n",
    "    [120, 13.2, 13.066341],\n",
    "    [148, 12.7, 15.084362],\n",
    "    [324, 13.9, 13.066341],\n",
    "    [111, 12.2, 12.045341],\n",
    "    [102, 18.2, 16.066341],\n",
    "    [321, 12.2, 11.066341],\n",
    "]\n",
    "\n",
    "X = np.array(X)\n",
    "X"
   ]
  },
  {
   "cell_type": "code",
   "execution_count": 105,
   "id": "1db53a38-85a4-4878-bd06-6c35d52032e3",
   "metadata": {},
   "outputs": [
    {
     "data": {
      "text/plain": [
       "array([1., 1., 1., 1., 1., 1., 1., 1., 1.])"
      ]
     },
     "execution_count": 105,
     "metadata": {},
     "output_type": "execute_result"
    }
   ],
   "source": [
    "ones = np.ones(X.shape[0])\n",
    "ones"
   ]
  },
  {
   "cell_type": "code",
   "execution_count": 108,
   "id": "3bc77d4c-f245-4dca-b8f3-851daddd1bbc",
   "metadata": {},
   "outputs": [],
   "source": [
    "X = np.column_stack([ones, X])\n"
   ]
  },
  {
   "cell_type": "code",
   "execution_count": 109,
   "id": "da73380e-a5ec-49d0-80ec-302128fae064",
   "metadata": {},
   "outputs": [],
   "source": [
    "y = [10000, 20000, 15000, 20050, 10000, 20000, 15000, 25000, 12000]\n"
   ]
  },
  {
   "cell_type": "code",
   "execution_count": 110,
   "id": "94bc13a3-c427-41ed-b35c-81100aef00dc",
   "metadata": {},
   "outputs": [],
   "source": [
    "XTX = X.T.dot(X)\n",
    "XTX_inv = np.linalg.inv(XTX)\n",
    "w_full = XTX_inv.dot(X.T).dot(y)"
   ]
  },
  {
   "cell_type": "code",
   "execution_count": 111,
   "id": "1a72cf12-6eb4-4184-bfa9-bc9e2a8dac1e",
   "metadata": {},
   "outputs": [],
   "source": [
    "w0 = w_full[0]\n",
    "w = w_full[1:]"
   ]
  },
  {
   "cell_type": "code",
   "execution_count": 112,
   "id": "aa9d00ff-e3b7-4bfc-8adf-f7103150b561",
   "metadata": {},
   "outputs": [
    {
     "data": {
      "text/plain": [
       "(np.float64(7.395710933581048e+20),\n",
       " array([-7.39571093e+20, -5.45774898e+02,  5.59751570e+04, -1.01932030e+05]))"
      ]
     },
     "execution_count": 112,
     "metadata": {},
     "output_type": "execute_result"
    }
   ],
   "source": [
    "w0, w\n"
   ]
  },
  {
   "cell_type": "code",
   "execution_count": 119,
   "id": "6152d5c7-d36b-44b3-9d5f-3bdb0e5ae1a6",
   "metadata": {},
   "outputs": [],
   "source": [
    "def train_linear_regression(X, y):\n",
    "    ones = np.ones(X.shape[0])\n",
    "    X = np.column_stack([ones, X])\n",
    "\n",
    "    XTX = X.T.dot(X)\n",
    "    XTX_inv = np.linalg.pinv(XTX)\n",
    "    w_full = XTX_inv.dot(X.T).dot(y)\n",
    "    \n",
    "    return w_full[0], w_full[1:]"
   ]
  },
  {
   "cell_type": "code",
   "execution_count": 121,
   "id": "df76c23b-124f-4ce0-818a-635cdf6e33f3",
   "metadata": {},
   "outputs": [],
   "source": [
    "def _raise_linalgerror_singular(err, flag):\n",
    "    raise LinAlgError(\"Singular matrix\")"
   ]
  },
  {
   "cell_type": "code",
   "execution_count": 122,
   "id": "a1b63e0c-dfa4-4e00-b764-1e8d83e98849",
   "metadata": {},
   "outputs": [
    {
     "data": {
      "text/plain": [
       "(np.float64(504.9872880365184),\n",
       " array([  504.98728804,   504.98728804,    -9.61390261,  2912.62517496,\n",
       "        -1692.79151316]))"
      ]
     },
     "execution_count": 122,
     "metadata": {},
     "output_type": "execute_result"
    }
   ],
   "source": [
    "train_linear_regression(X, y)"
   ]
  },
  {
   "cell_type": "code",
   "execution_count": 123,
   "id": "0823c99c-239b-4127-9ba1-9603aee871d5",
   "metadata": {},
   "outputs": [
    {
     "data": {
      "text/plain": [
       "Index(['engine_displacement', 'num_cylinders', 'vehicle_weight',\n",
       "       'acceleration', 'model_year', 'origin', 'fuel_type', 'drivetrain',\n",
       "       'num_doors', 'fuel_efficiency_mpg'],\n",
       "      dtype='object')"
      ]
     },
     "execution_count": 123,
     "metadata": {},
     "output_type": "execute_result"
    }
   ],
   "source": [
    "\n",
    "df_train.columns"
   ]
  },
  {
   "cell_type": "code",
   "execution_count": 125,
   "id": "46721cd7-095e-4cb9-8e66-c74fccda77f3",
   "metadata": {},
   "outputs": [],
   "source": [
    "base = ['engine_displacement',\n",
    "    'acceleration',\n",
    "    'vehicle_weight',\n",
    "    'model_year',\n",
    "    'fuel_efficiency_mpg']\n",
    "\n",
    "X_train = df_train[base].fillna(0).values\n",
    "\n",
    "w0, w = train_linear_regression(X_train, y_train)\n",
    "\n",
    "y_pred = w0 + X_train.dot(w)"
   ]
  },
  {
   "cell_type": "code",
   "execution_count": 126,
   "id": "26e3caee-659b-408f-a05f-be04efcef7db",
   "metadata": {},
   "outputs": [
    {
     "data": {
      "text/plain": [
       "engine_displacement      0\n",
       "acceleration           551\n",
       "vehicle_weight           0\n",
       "model_year               0\n",
       "fuel_efficiency_mpg      0\n",
       "dtype: int64"
      ]
     },
     "execution_count": 126,
     "metadata": {},
     "output_type": "execute_result"
    }
   ],
   "source": [
    "# missing values\n",
    "df_train[base].isnull().sum()\n"
   ]
  },
  {
   "cell_type": "code",
   "execution_count": 131,
   "id": "d66b5498-921d-485a-81ac-a182c7645e55",
   "metadata": {},
   "outputs": [
    {
     "data": {
      "text/plain": [
       "engine_displacement    0\n",
       "acceleration           0\n",
       "vehicle_weight         0\n",
       "model_year             0\n",
       "fuel_efficiency_mpg    0\n",
       "dtype: int64"
      ]
     },
     "execution_count": 131,
     "metadata": {},
     "output_type": "execute_result"
    }
   ],
   "source": [
    "df_train[base] = df_train[base].fillna(df_train[base].mean())\n",
    "df_train[base].isnull().sum()"
   ]
  },
  {
   "cell_type": "code",
   "execution_count": 127,
   "id": "ca99d108-2e77-4f7c-9067-eeaf2bd1b704",
   "metadata": {},
   "outputs": [
    {
     "data": {
      "text/plain": [
       "engine_displacement    0\n",
       "acceleration           0\n",
       "vehicle_weight         0\n",
       "model_year             0\n",
       "fuel_efficiency_mpg    0\n",
       "dtype: int64"
      ]
     },
     "execution_count": 127,
     "metadata": {},
     "output_type": "execute_result"
    }
   ],
   "source": [
    "df_train[base].fillna(0).isnull().sum()\n"
   ]
  },
  {
   "cell_type": "code",
   "execution_count": 128,
   "id": "89354686-3bd3-41ec-9413-641ad6d1cb8d",
   "metadata": {},
   "outputs": [
    {
     "data": {
      "text/plain": [
       "np.float64(-1.7464568541361096)"
      ]
     },
     "execution_count": 128,
     "metadata": {},
     "output_type": "execute_result"
    }
   ],
   "source": [
    "w0"
   ]
  },
  {
   "cell_type": "code",
   "execution_count": 129,
   "id": "914427fb-6d20-428d-b9ec-c9876c334d1f",
   "metadata": {},
   "outputs": [
    {
     "data": {
      "text/plain": [
       "array([-5.54357501e-05,  3.98825926e-03,  1.00489517e-03,  3.30106507e-04,\n",
       "        2.01485578e-01])"
      ]
     },
     "execution_count": 129,
     "metadata": {},
     "output_type": "execute_result"
    }
   ],
   "source": [
    "w"
   ]
  },
  {
   "cell_type": "code",
   "execution_count": 132,
   "id": "76bf0a4f-57d4-4f94-b533-6ff91357fe06",
   "metadata": {},
   "outputs": [],
   "source": [
    "w0, w = train_linear_regression(X_train, y_train)\n"
   ]
  },
  {
   "cell_type": "code",
   "execution_count": 133,
   "id": "01bd2bc2-e5f8-4382-b9e9-9445a2876833",
   "metadata": {},
   "outputs": [],
   "source": [
    "y_pred = w0 + X_train.dot(w)"
   ]
  },
  {
   "cell_type": "code",
   "execution_count": 134,
   "id": "93db8413-0e6b-4c6b-bc1c-b21a78dcff30",
   "metadata": {},
   "outputs": [
    {
     "data": {
      "text/plain": [
       "<Axes: ylabel='Count'>"
      ]
     },
     "execution_count": 134,
     "metadata": {},
     "output_type": "execute_result"
    },
    {
     "data": {
      "image/png": "[encoded data removed]",
      "text/plain": [
       "<Figure size 640x480 with 1 Axes>"
      ]
     },
     "metadata": {},
     "output_type": "display_data"
    }
   ],
   "source": [
    "sns.histplot(y_pred, color='red', alpha=0.5, bins=50)\n",
    "sns.histplot(y_train, color='blue', alpha=0.5, bins=50)"
   ]
  },
  {
   "cell_type": "code",
   "execution_count": 138,
   "id": "2a23a5ac-0e02-4944-81e6-4e3cbf7df673",
   "metadata": {},
   "outputs": [],
   "source": [
    "# Option A: Fill with 0\n",
    "X_train_0 = df_train[base].fillna(0).values\n",
    "X_val_0 = df_val[base].fillna(0).values\n",
    "\n"
   ]
  },
  {
   "cell_type": "code",
   "execution_count": 139,
   "id": "b560a683-15f3-4792-b19b-75f36420c916",
   "metadata": {},
   "outputs": [],
   "source": [
    "mean_values = df_train[base].mean()\n",
    "X_train_mean = df_train[base].fillna(mean_values).values\n",
    "X_val_mean = df_val[base].fillna(mean_values).values"
   ]
  },
  {
   "cell_type": "code",
   "execution_count": 150,
   "id": "0c67fe50-e6b4-4880-8a45-b3e505eddd05",
   "metadata": {},
   "outputs": [],
   "source": [
    "# RSME: an objective way to evaluate the performance of a regression model.\n",
    "def rmse(y, y_pred):\n",
    "    se = (y - y_pred) ** 2\n",
    "    mse = se.mean()\n",
    "    return np.sqrt(mse)"
   ]
  },
  {
   "cell_type": "code",
   "execution_count": 152,
   "id": "45b6b05d-1e33-495d-bc37-8fa5aa87e35b",
   "metadata": {},
   "outputs": [
    {
     "data": {
      "text/plain": [
       "np.float64(0.1686528610978111)"
      ]
     },
     "execution_count": 152,
     "metadata": {},
     "output_type": "execute_result"
    }
   ],
   "source": [
    "rmse(y_train, y_pred)\n"
   ]
  },
  {
   "cell_type": "code",
   "execution_count": 153,
   "id": "d1fcd045-b8ec-46d9-83a7-2884cbff4a73",
   "metadata": {},
   "outputs": [
    {
     "name": "stdout",
     "output_type": "stream",
     "text": [
      "0.17\n"
     ]
    }
   ],
   "source": [
    "score = np.float64(0.1686528610978111)\n",
    "rounded_score = round(score, 2)\n",
    "print(rounded_score)"
   ]
  },
  {
   "cell_type": "code",
   "execution_count": 170,
   "id": "429672a7-5b2a-4f65-a59d-e412a9629965",
   "metadata": {},
   "outputs": [
    {
     "name": "stdout",
     "output_type": "stream",
     "text": [
      "RMSE Standard Deviation: 0.0\n"
     ]
    }
   ],
   "source": [
    "rmse_std = round(np.std(score), 2)\n",
    "print(\"RMSE Standard Deviation:\", rmse_std)\n"
   ]
  },
  {
   "cell_type": "code",
   "execution_count": 154,
   "id": "5005ed32-1bef-4f26-8832-d9e2a750aaa2",
   "metadata": {},
   "outputs": [],
   "source": [
    "# Validating the model\n",
    "def prepare_X(df):\n",
    "    df_num = df[base]\n",
    "    df_num = df_num.fillna(0)\n",
    "    X = df_num.values\n",
    "    return X"
   ]
  },
  {
   "cell_type": "code",
   "execution_count": 155,
   "id": "490463ef-1e7b-4da1-83d4-f0f4845758c8",
   "metadata": {},
   "outputs": [
    {
     "data": {
      "text/plain": [
       "np.float64(0.201561293520846)"
      ]
     },
     "execution_count": 155,
     "metadata": {},
     "output_type": "execute_result"
    }
   ],
   "source": [
    "X_train = prepare_X(df_train)\n",
    "w0, w = train_linear_regression(X_train, y_train)\n",
    "\n",
    "X_val = prepare_X(df_val)\n",
    "y_pred = w0 + X_val.dot(w)\n",
    "rmse(y_val, y_pred)"
   ]
  },
  {
   "cell_type": "code",
   "execution_count": null,
   "id": "c7aaae80-16f2-48b9-9b7d-1fa4f23a45b7",
   "metadata": {},
   "outputs": [],
   "source": []
  },
  {
   "cell_type": "code",
   "execution_count": null,
   "id": "a4cf7a02-b027-490f-b07b-9532e989c561",
   "metadata": {},
   "outputs": [],
   "source": []
  },
  {
   "cell_type": "code",
   "execution_count": 156,
   "id": "8139f2a2-fc5a-49fa-97e2-a5b6f15bb0e3",
   "metadata": {},
   "outputs": [],
   "source": [
    "def prepare_X(df):\n",
    "    df_num = df[base]\n",
    "    df_num = df_num.fillna(mean_values)\n",
    "    X = df_num.values\n",
    "    return X"
   ]
  },
  {
   "cell_type": "code",
   "execution_count": 158,
   "id": "959b9bef-e285-41c6-95d2-2d84251731c8",
   "metadata": {},
   "outputs": [
    {
     "data": {
      "text/plain": [
       "np.float64(0.1692147028821703)"
      ]
     },
     "execution_count": 158,
     "metadata": {},
     "output_type": "execute_result"
    }
   ],
   "source": [
    "X_train = prepare_X(df_train)\n",
    "w0, w = train_linear_regression(X_train, y_train)\n",
    "\n",
    "X_val = prepare_X(df_val)\n",
    "y_pred = w0 + X_val.dot(w)\n",
    "rmse(y_val, y_pred)\n"
   ]
  },
  {
   "cell_type": "code",
   "execution_count": null,
   "id": "b33ead40-4090-4a15-a1d8-161fb639881c",
   "metadata": {},
   "outputs": [],
   "source": [
    "# Fill missing values using training mean\n",
    "df_train['horsepower'] = df_train['horsepower'].fillna(mean_hp)\n",
    "df_val['horsepower'] = df_val['horsepower'].fillna(mean_hp)"
   ]
  },
  {
   "cell_type": "code",
   "execution_count": null,
   "id": "deebebaa-4abf-4d27-8868-ba8f078512ab",
   "metadata": {},
   "outputs": [],
   "source": []
  },
  {
   "cell_type": "code",
   "execution_count": null,
   "id": "5fdc8d6e-7db1-45fd-895d-cd94f0eed23c",
   "metadata": {},
   "outputs": [],
   "source": []
  },
  {
   "cell_type": "code",
   "execution_count": null,
   "id": "fbf1d76a-2ba5-4ca2-bed4-b97a18a6f44b",
   "metadata": {},
   "outputs": [],
   "source": []
  },
  {
   "cell_type": "code",
   "execution_count": 161,
   "id": "c543b1e7-d0b0-4730-99df-f1bee0361973",
   "metadata": {},
   "outputs": [
    {
     "data": {
      "text/plain": [
       "Index(['engine_displacement', 'num_cylinders', 'horsepower', 'vehicle_weight',\n",
       "       'acceleration', 'model_year', 'origin', 'fuel_type', 'drivetrain',\n",
       "       'num_doors', 'fuel_efficiency_mpg'],\n",
       "      dtype='object')"
      ]
     },
     "execution_count": 161,
     "metadata": {},
     "output_type": "execute_result"
    }
   ],
   "source": [
    "df.columns"
   ]
  },
  {
   "cell_type": "code",
   "execution_count": 167,
   "id": "41beddaf-1174-4075-a5ef-4c9da48607c9",
   "metadata": {},
   "outputs": [],
   "source": [
    "def prepare_X(df):\n",
    "    df = df.copy()\n",
    "    \n",
    "    df['drivetrain'] = 2017 - df['model_year']\n",
    "    features = base + ['drivetrain']\n",
    "    \n",
    "    df_num = df[features]\n",
    "    df_num = df_num.fillna(mean_values)\n",
    "    X = df_num.values\n",
    "\n",
    "    return X"
   ]
  },
  {
   "cell_type": "code",
   "execution_count": 168,
   "id": "b9164482-4485-42e7-acac-ac0072d99d75",
   "metadata": {},
   "outputs": [
    {
     "data": {
      "text/plain": [
       "np.float64(0.16921470288861934)"
      ]
     },
     "execution_count": 168,
     "metadata": {},
     "output_type": "execute_result"
    }
   ],
   "source": [
    "X_train = prepare_X(df_train)\n",
    "w0, w = train_linear_regression(X_train, y_train)\n",
    "\n",
    "X_val = prepare_X(df_val)\n",
    "y_pred = w0 + X_val.dot(w)\n",
    "rmse(y_val, y_pred)"
   ]
  },
  {
   "cell_type": "code",
   "execution_count": 166,
   "id": "9f193722-5f84-4c2a-99d5-8a064280c7f5",
   "metadata": {},
   "outputs": [
    {
     "data": {
      "text/plain": [
       "engine_displacement      int64\n",
       "num_cylinders          float64\n",
       "horsepower             float64\n",
       "vehicle_weight         float64\n",
       "acceleration           float64\n",
       "model_year               int64\n",
       "origin                  object\n",
       "fuel_type               object\n",
       "drivetrain              object\n",
       "num_doors              float64\n",
       "fuel_efficiency_mpg    float64\n",
       "dtype: object"
      ]
     },
     "execution_count": 166,
     "metadata": {},
     "output_type": "execute_result"
    }
   ],
   "source": [
    "df.dtypes\n"
   ]
  },
  {
   "cell_type": "code",
   "execution_count": null,
   "id": "f5e50b73-3b6e-4e88-bdca-dd94732aa8dc",
   "metadata": {},
   "outputs": [],
   "source": [
    "\n"
   ]
  },
  {
   "cell_type": "code",
   "execution_count": null,
   "id": "085f3dbf-14c7-49a1-be10-d0656ed550d4",
   "metadata": {},
   "outputs": [],
   "source": []
  }
 ],
 "metadata": {
  "kernelspec": {
   "display_name": "Python 3 (ipykernel)",
   "language": "python",
   "name": "python3"
  },
  "language_info": {
   "codemirror_mode": {
    "name": "ipython",
    "version": 3
   },
   "file_extension": ".py",
   "mimetype": "text/x-python",
   "name": "python",
   "nbconvert_exporter": "python",
   "pygments_lexer": "ipython3",
   "version": "3.11.13"
  }
 },
 "nbformat": 4,
 "nbformat_minor": 5
}
