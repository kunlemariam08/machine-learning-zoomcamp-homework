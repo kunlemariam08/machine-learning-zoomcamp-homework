{
 "cells": [
  {
   "cell_type": "code",
   "execution_count": 1,
   "id": "a2f6722b-36ff-4c3c-9d4a-ed33ed80a221",
   "metadata": {},
   "outputs": [],
   "source": [
    "import pandas as pd\n",
    "import numpy as np\n",
    "\n",
    "from sklearn.model_selection import train_test_split\n",
    "from sklearn.model_selection import KFold\n",
    "\n",
    "from sklearn.feature_extraction import DictVectorizer\n",
    "from sklearn.linear_model import LogisticRegression\n",
    "from sklearn.metrics import roc_auc_score"
   ]
  },
  {
   "cell_type": "code",
   "execution_count": null,
   "id": "68a50616-2de0-4d84-97e9-db704f9bbdac",
   "metadata": {},
   "outputs": [],
   "source": []
  },
  {
   "cell_type": "code",
   "execution_count": 7,
   "id": "6a7cabff-40ea-4625-b461-3215140cf014",
   "metadata": {},
   "outputs": [
    {
     "name": "stdout",
     "output_type": "stream",
     "text": [
      "Collecting uvicorn\n",
      "  Downloading uvicorn-0.38.0-py3-none-any.whl.metadata (6.8 kB)\n",
      "Collecting click>=7.0 (from uvicorn)\n",
      "  Downloading click-8.3.0-py3-none-any.whl.metadata (2.6 kB)\n",
      "Requirement already satisfied: h11>=0.8 in c:\\users\\pc\\miniconda3\\envs\\machine-learning-zoomcamp-homework\\lib\\site-packages (from uvicorn) (0.16.0)\n",
      "Requirement already satisfied: colorama in c:\\users\\pc\\miniconda3\\envs\\machine-learning-zoomcamp-homework\\lib\\site-packages (from click>=7.0->uvicorn) (0.4.6)\n",
      "Downloading uvicorn-0.38.0-py3-none-any.whl (68 kB)\n",
      "Downloading click-8.3.0-py3-none-any.whl (107 kB)\n",
      "Installing collected packages: click, uvicorn\n",
      "\n",
      "   -------------------- ------------------- 1/2 [uvicorn]\n",
      "   -------------------- ------------------- 1/2 [uvicorn]\n",
      "   ---------------------------------------- 2/2 [uvicorn]\n",
      "\n",
      "Successfully installed click-8.3.0 uvicorn-0.38.0\n"
     ]
    }
   ],
   "source": [
    "!pip install uvicorn"
   ]
  },
  {
   "cell_type": "code",
   "execution_count": 11,
   "id": "5014e36b-f4f0-496d-b8d9-91278dd51689",
   "metadata": {},
   "outputs": [
    {
     "name": "stdout",
     "output_type": "stream",
     "text": [
      "Running uvicorn 0.38.0 with CPython 3.11.13 on Windows\n"
     ]
    }
   ],
   "source": [
    "!uvicorn --version\n",
    "\n"
   ]
  },
  {
   "cell_type": "code",
   "execution_count": 18,
   "id": "0cd1e43f-4cfe-456a-819f-5abb2b3b784f",
   "metadata": {},
   "outputs": [
    {
     "name": "stdout",
     "output_type": "stream",
     "text": [
      "Collecting fastapi\n",
      "  Downloading fastapi-0.120.1-py3-none-any.whl.metadata (28 kB)\n",
      "Collecting starlette<0.50.0,>=0.40.0 (from fastapi)\n",
      "  Downloading starlette-0.48.0-py3-none-any.whl.metadata (6.3 kB)\n",
      "Collecting pydantic!=1.8,!=1.8.1,!=2.0.0,!=2.0.1,!=2.1.0,<3.0.0,>=1.7.4 (from fastapi)\n",
      "  Downloading pydantic-2.12.3-py3-none-any.whl.metadata (87 kB)\n",
      "Requirement already satisfied: typing-extensions>=4.8.0 in c:\\users\\pc\\miniconda3\\envs\\machine-learning-zoomcamp-homework\\lib\\site-packages (from fastapi) (4.15.0)\n",
      "Collecting annotated-doc>=0.0.2 (from fastapi)\n",
      "  Downloading annotated_doc-0.0.3-py3-none-any.whl.metadata (6.6 kB)\n",
      "Collecting annotated-types>=0.6.0 (from pydantic!=1.8,!=1.8.1,!=2.0.0,!=2.0.1,!=2.1.0,<3.0.0,>=1.7.4->fastapi)\n",
      "  Downloading annotated_types-0.7.0-py3-none-any.whl.metadata (15 kB)\n",
      "Collecting pydantic-core==2.41.4 (from pydantic!=1.8,!=1.8.1,!=2.0.0,!=2.0.1,!=2.1.0,<3.0.0,>=1.7.4->fastapi)\n",
      "  Downloading pydantic_core-2.41.4-cp311-cp311-win_amd64.whl.metadata (7.4 kB)\n",
      "Collecting typing-inspection>=0.4.2 (from pydantic!=1.8,!=1.8.1,!=2.0.0,!=2.0.1,!=2.1.0,<3.0.0,>=1.7.4->fastapi)\n",
      "  Downloading typing_inspection-0.4.2-py3-none-any.whl.metadata (2.6 kB)\n",
      "Requirement already satisfied: anyio<5,>=3.6.2 in c:\\users\\pc\\miniconda3\\envs\\machine-learning-zoomcamp-homework\\lib\\site-packages (from starlette<0.50.0,>=0.40.0->fastapi) (4.10.0)\n",
      "Requirement already satisfied: idna>=2.8 in c:\\users\\pc\\miniconda3\\envs\\machine-learning-zoomcamp-homework\\lib\\site-packages (from anyio<5,>=3.6.2->starlette<0.50.0,>=0.40.0->fastapi) (3.7)\n",
      "Requirement already satisfied: sniffio>=1.1 in c:\\users\\pc\\miniconda3\\envs\\machine-learning-zoomcamp-homework\\lib\\site-packages (from anyio<5,>=3.6.2->starlette<0.50.0,>=0.40.0->fastapi) (1.3.0)\n",
      "Downloading fastapi-0.120.1-py3-none-any.whl (108 kB)\n",
      "Downloading pydantic-2.12.3-py3-none-any.whl (462 kB)\n",
      "Downloading pydantic_core-2.41.4-cp311-cp311-win_amd64.whl (2.0 MB)\n",
      "   ---------------------------------------- 0.0/2.0 MB ? eta -:--:--\n",
      "   ---------------------------------------- 0.0/2.0 MB ? eta -:--:--\n",
      "   ----- ---------------------------------- 0.3/2.0 MB ? eta -:--:--\n",
      "   ----- ---------------------------------- 0.3/2.0 MB ? eta -:--:--\n",
      "   ----- ---------------------------------- 0.3/2.0 MB ? eta -:--:--\n",
      "   ----- ---------------------------------- 0.3/2.0 MB ? eta -:--:--\n",
      "   ----- ---------------------------------- 0.3/2.0 MB ? eta -:--:--\n",
      "   ----- ---------------------------------- 0.3/2.0 MB ? eta -:--:--\n",
      "   ----- ---------------------------------- 0.3/2.0 MB ? eta -:--:--\n",
      "   ----- ---------------------------------- 0.3/2.0 MB ? eta -:--:--\n",
      "   ----- ---------------------------------- 0.3/2.0 MB ? eta -:--:--\n",
      "   ----- ---------------------------------- 0.3/2.0 MB ? eta -:--:--\n",
      "   ---------- ----------------------------- 0.5/2.0 MB 125.2 kB/s eta 0:00:12\n",
      "   ---------- ----------------------------- 0.5/2.0 MB 125.2 kB/s eta 0:00:12\n",
      "   ---------- ----------------------------- 0.5/2.0 MB 125.2 kB/s eta 0:00:12\n",
      "   --------------- ------------------------ 0.8/2.0 MB 194.0 kB/s eta 0:00:07\n",
      "   --------------- ------------------------ 0.8/2.0 MB 194.0 kB/s eta 0:00:07\n",
      "   --------------- ------------------------ 0.8/2.0 MB 194.0 kB/s eta 0:00:07\n",
      "   --------------- ------------------------ 0.8/2.0 MB 194.0 kB/s eta 0:00:07\n",
      "   --------------- ------------------------ 0.8/2.0 MB 194.0 kB/s eta 0:00:07\n",
      "   --------------- ------------------------ 0.8/2.0 MB 194.0 kB/s eta 0:00:07\n",
      "   -------------------- ------------------- 1.0/2.0 MB 197.3 kB/s eta 0:00:05\n",
      "   -------------------- ------------------- 1.0/2.0 MB 197.3 kB/s eta 0:00:05\n",
      "   -------------------- ------------------- 1.0/2.0 MB 197.3 kB/s eta 0:00:05\n",
      "   -------------------- ------------------- 1.0/2.0 MB 197.3 kB/s eta 0:00:05\n",
      "   -------------------- ------------------- 1.0/2.0 MB 197.3 kB/s eta 0:00:05\n",
      "   -------------------- ------------------- 1.0/2.0 MB 197.3 kB/s eta 0:00:05\n",
      "   -------------------- ------------------- 1.0/2.0 MB 197.3 kB/s eta 0:00:05\n",
      "   -------------------- ------------------- 1.0/2.0 MB 197.3 kB/s eta 0:00:05\n",
      "   -------------------- ------------------- 1.0/2.0 MB 197.3 kB/s eta 0:00:05\n",
      "   -------------------- ------------------- 1.0/2.0 MB 197.3 kB/s eta 0:00:05\n",
      "   -------------------- ------------------- 1.0/2.0 MB 197.3 kB/s eta 0:00:05\n",
      "   -------------------- ------------------- 1.0/2.0 MB 197.3 kB/s eta 0:00:05\n",
      "   -------------------- ------------------- 1.0/2.0 MB 197.3 kB/s eta 0:00:05\n",
      "   -------------------- ------------------- 1.0/2.0 MB 197.3 kB/s eta 0:00:05\n",
      "   -------------------- ------------------- 1.0/2.0 MB 197.3 kB/s eta 0:00:05\n",
      "   -------------------- ------------------- 1.0/2.0 MB 197.3 kB/s eta 0:00:05\n",
      "   -------------------- ------------------- 1.0/2.0 MB 197.3 kB/s eta 0:00:05\n",
      "   -------------------- ------------------- 1.0/2.0 MB 197.3 kB/s eta 0:00:05\n",
      "   -------------------- ------------------- 1.0/2.0 MB 197.3 kB/s eta 0:00:05\n",
      "   -------------------- ------------------- 1.0/2.0 MB 197.3 kB/s eta 0:00:05\n",
      "   ------------------------- -------------- 1.3/2.0 MB 123.6 kB/s eta 0:00:06\n",
      "   ------------------------- -------------- 1.3/2.0 MB 123.6 kB/s eta 0:00:06\n",
      "   ------------------------- -------------- 1.3/2.0 MB 123.6 kB/s eta 0:00:06\n",
      "   ------------------------- -------------- 1.3/2.0 MB 123.6 kB/s eta 0:00:06\n",
      "   ------------------------- -------------- 1.3/2.0 MB 123.6 kB/s eta 0:00:06\n",
      "   ------------------------------- -------- 1.6/2.0 MB 137.1 kB/s eta 0:00:04\n",
      "   ------------------------------- -------- 1.6/2.0 MB 137.1 kB/s eta 0:00:04\n",
      "   ------------------------------- -------- 1.6/2.0 MB 137.1 kB/s eta 0:00:04\n",
      "   ------------------------------- -------- 1.6/2.0 MB 137.1 kB/s eta 0:00:04\n",
      "   ------------------------------- -------- 1.6/2.0 MB 137.1 kB/s eta 0:00:04\n",
      "   ------------------------------- -------- 1.6/2.0 MB 137.1 kB/s eta 0:00:04\n",
      "   ------------------------------------ --- 1.8/2.0 MB 144.8 kB/s eta 0:00:02\n",
      "   ------------------------------------ --- 1.8/2.0 MB 144.8 kB/s eta 0:00:02\n",
      "   ------------------------------------ --- 1.8/2.0 MB 144.8 kB/s eta 0:00:02\n",
      "   ---------------------------------------- 2.0/2.0 MB 154.1 kB/s  0:00:11\n",
      "Downloading starlette-0.48.0-py3-none-any.whl (73 kB)\n",
      "Downloading annotated_doc-0.0.3-py3-none-any.whl (5.5 kB)\n",
      "Downloading annotated_types-0.7.0-py3-none-any.whl (13 kB)\n",
      "Downloading typing_inspection-0.4.2-py3-none-any.whl (14 kB)\n",
      "Installing collected packages: typing-inspection, pydantic-core, annotated-types, annotated-doc, starlette, pydantic, fastapi\n",
      "\n",
      "   ----------- ---------------------------- 2/7 [annotated-types]\n",
      "   ---------------------- ----------------- 4/7 [starlette]\n",
      "   ---------------------- ----------------- 4/7 [starlette]\n",
      "   ---------------------------- ----------- 5/7 [pydantic]\n",
      "   ---------------------------- ----------- 5/7 [pydantic]\n",
      "   ---------------------------- ----------- 5/7 [pydantic]\n",
      "   ---------------------------- ----------- 5/7 [pydantic]\n",
      "   ---------------------------- ----------- 5/7 [pydantic]\n",
      "   ---------------------------------- ----- 6/7 [fastapi]\n",
      "   ---------------------------------- ----- 6/7 [fastapi]\n",
      "   ---------------------------------------- 7/7 [fastapi]\n",
      "\n",
      "Successfully installed annotated-doc-0.0.3 annotated-types-0.7.0 fastapi-0.120.1 pydantic-2.12.3 pydantic-core-2.41.4 starlette-0.48.0 typing-inspection-0.4.2\n"
     ]
    }
   ],
   "source": [
    "!pip install fastapi"
   ]
  },
  {
   "cell_type": "code",
   "execution_count": 19,
   "id": "3b25cf00-aaba-4af4-91fb-0b90b6ea416d",
   "metadata": {},
   "outputs": [
    {
     "name": "stdout",
     "output_type": "stream",
     "text": [
      "Requirement already satisfied: uvicorn in c:\\users\\pc\\miniconda3\\envs\\machine-learning-zoomcamp-homework\\lib\\site-packages (0.38.0)\n",
      "Requirement already satisfied: nest_asyncio in c:\\users\\pc\\miniconda3\\envs\\machine-learning-zoomcamp-homework\\lib\\site-packages (1.6.0)\n",
      "Requirement already satisfied: click>=7.0 in c:\\users\\pc\\miniconda3\\envs\\machine-learning-zoomcamp-homework\\lib\\site-packages (from uvicorn) (8.3.0)\n",
      "Requirement already satisfied: h11>=0.8 in c:\\users\\pc\\miniconda3\\envs\\machine-learning-zoomcamp-homework\\lib\\site-packages (from uvicorn) (0.16.0)\n",
      "Requirement already satisfied: colorama in c:\\users\\pc\\miniconda3\\envs\\machine-learning-zoomcamp-homework\\lib\\site-packages (from click>=7.0->uvicorn) (0.4.6)\n"
     ]
    }
   ],
   "source": [
    "!pip install uvicorn nest_asyncio"
   ]
  },
  {
   "cell_type": "code",
   "execution_count": 24,
   "id": "bf18a489-4f7b-4213-aa29-aa04934b61d1",
   "metadata": {},
   "outputs": [],
   "source": [
    "!curl -Ls https://install.uv.dev | sh\n"
   ]
  },
  {
   "cell_type": "code",
   "execution_count": 28,
   "id": "d12aa12c-2bac-4d14-b91e-2a7e990fe60d",
   "metadata": {},
   "outputs": [
    {
     "name": "stdout",
     "output_type": "stream",
     "text": [
      "uv.lock exists: False\n"
     ]
    }
   ],
   "source": [
    "import os\n",
    "print(\"uv.lock exists:\", os.path.exists(\"uv.lock\"))"
   ]
  },
  {
   "cell_type": "code",
   "execution_count": 29,
   "id": "8ce13eec-809c-4851-b509-8bbba4010b2c",
   "metadata": {},
   "outputs": [
    {
     "name": "stderr",
     "output_type": "stream",
     "text": [
      "'uv' is not recognized as an internal or external command,\n",
      "operable program or batch file.\n"
     ]
    }
   ],
   "source": [
    "!uv pip install scikit-learn==1.6.1"
   ]
  },
  {
   "cell_type": "code",
   "execution_count": 30,
   "id": "5b30641d-b11a-49f4-aee2-b7e7306a620b",
   "metadata": {},
   "outputs": [
    {
     "name": "stdout",
     "output_type": "stream",
     "text": [
      "Collecting flask\n",
      "  Downloading flask-3.1.2-py3-none-any.whl.metadata (3.2 kB)\n",
      "Collecting blinker>=1.9.0 (from flask)\n",
      "  Using cached blinker-1.9.0-py3-none-any.whl.metadata (1.6 kB)\n",
      "Requirement already satisfied: click>=8.1.3 in c:\\users\\pc\\miniconda3\\envs\\machine-learning-zoomcamp-homework\\lib\\site-packages (from flask) (8.3.0)\n",
      "Collecting itsdangerous>=2.2.0 (from flask)\n",
      "  Using cached itsdangerous-2.2.0-py3-none-any.whl.metadata (1.9 kB)\n",
      "Requirement already satisfied: jinja2>=3.1.2 in c:\\users\\pc\\miniconda3\\envs\\machine-learning-zoomcamp-homework\\lib\\site-packages (from flask) (3.1.6)\n",
      "Requirement already satisfied: markupsafe>=2.1.1 in c:\\users\\pc\\miniconda3\\envs\\machine-learning-zoomcamp-homework\\lib\\site-packages (from flask) (3.0.2)\n",
      "Collecting werkzeug>=3.1.0 (from flask)\n",
      "  Using cached werkzeug-3.1.3-py3-none-any.whl.metadata (3.7 kB)\n",
      "Requirement already satisfied: colorama in c:\\users\\pc\\miniconda3\\envs\\machine-learning-zoomcamp-homework\\lib\\site-packages (from click>=8.1.3->flask) (0.4.6)\n",
      "Downloading flask-3.1.2-py3-none-any.whl (103 kB)\n",
      "Using cached blinker-1.9.0-py3-none-any.whl (8.5 kB)\n",
      "Using cached itsdangerous-2.2.0-py3-none-any.whl (16 kB)\n",
      "Using cached werkzeug-3.1.3-py3-none-any.whl (224 kB)\n",
      "Installing collected packages: werkzeug, itsdangerous, blinker, flask\n",
      "\n",
      "   ---------------------------------------- 0/4 [werkzeug]\n",
      "   ---------------------------------------- 0/4 [werkzeug]\n",
      "   -------------------- ------------------- 2/4 [blinker]\n",
      "   ------------------------------ --------- 3/4 [flask]\n",
      "   ---------------------------------------- 4/4 [flask]\n",
      "\n",
      "Successfully installed blinker-1.9.0 flask-3.1.2 itsdangerous-2.2.0 werkzeug-3.1.3\n",
      "Note: you may need to restart the kernel to use updated packages.\n"
     ]
    }
   ],
   "source": [
    "pip install flask"
   ]
  },
  {
   "cell_type": "code",
   "execution_count": 1,
   "id": "30b495ed-8e12-48c3-9909-354c296ec9f4",
   "metadata": {},
   "outputs": [
    {
     "name": "stdout",
     "output_type": "stream",
     "text": [
      "uv.lock exists: False\n"
     ]
    }
   ],
   "source": [
    "import os\n",
    "print(\"uv.lock exists:\", os.path.exists(\"uv.lock\"))"
   ]
  },
  {
   "cell_type": "code",
   "execution_count": 2,
   "id": "6c98373f-707b-40e6-bc52-b3fbff3fca6d",
   "metadata": {},
   "outputs": [
    {
     "name": "stdout",
     "output_type": "stream",
     "text": [
      "Current working directory: C:\\Users\\pc\\lesson\\machine-learning-zoomcamp-homework\\05-model_deployment\n"
     ]
    }
   ],
   "source": [
    "import os\n",
    "print(\"Current working directory:\", os.getcwd())"
   ]
  },
  {
   "cell_type": "code",
   "execution_count": 4,
   "id": "d4098a59-47bd-43b6-ac98-7a0da71206f8",
   "metadata": {},
   "outputs": [],
   "source": [
    "import os\n",
    "\n",
    "for root, dirs, files in os.walk(\"C:/Users/pc/lesson/machine-learning-zoomcamp-homework\"):\n",
    "    if \"uv.lock\" in files:\n",
    "        print(\"Found uv.lock at:\", os.path.join(root, \"uv.lock\"))"
   ]
  },
  {
   "cell_type": "code",
   "execution_count": null,
   "id": "3988d0ab-dad6-4fc1-9a85-f79024a9ee42",
   "metadata": {},
   "outputs": [],
   "source": []
  }
 ],
 "metadata": {
  "kernelspec": {
   "display_name": "Python 3 (ipykernel)",
   "language": "python",
   "name": "python3"
  },
  "language_info": {
   "codemirror_mode": {
    "name": "ipython",
    "version": 3
   },
   "file_extension": ".py",
   "mimetype": "text/x-python",
   "name": "python",
   "nbconvert_exporter": "python",
   "pygments_lexer": "ipython3",
   "version": "3.11.13"
  }
 },
 "nbformat": 4,
 "nbformat_minor": 5
}
